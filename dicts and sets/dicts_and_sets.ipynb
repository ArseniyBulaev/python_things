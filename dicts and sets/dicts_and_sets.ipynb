{
 "cells": [
  {
   "cell_type": "code",
   "execution_count": 1,
   "metadata": {},
   "outputs": [
    {
     "data": {
      "text/plain": [
       "{55: 'BRAZIL', 62: 'INDONESIA', 7: 'RUSSIA', 1: 'UNITED STATES'}"
      ]
     },
     "execution_count": 1,
     "metadata": {},
     "output_type": "execute_result"
    }
   ],
   "source": [
    "# Словарные включения (dictcomp)\n",
    "dial_codes = [\n",
    " (880, 'Bangladesh'),\n",
    " (55, 'Brazil'),\n",
    " (86, 'China'),\n",
    " (91, 'India'),\n",
    " (62, 'Indonesia'),\n",
    " (81, 'Japan'),\n",
    " (234, 'Nigeria'),\n",
    " (92, 'Pakistan'),\n",
    " (7, 'Russia'),\n",
    " (1, 'United States'),\n",
    "]\n",
    "\n",
    "country_dial = {country: code for code, country in dial_codes}\n",
    "\n",
    "{code : country.upper() for country, code in sorted(country_dial.items()) if code < 70 }"
   ]
  },
  {
   "cell_type": "code",
   "execution_count": 6,
   "metadata": {},
   "outputs": [
    {
     "data": {
      "text/plain": [
       "{'x': 1}"
      ]
     },
     "execution_count": 6,
     "metadata": {},
     "output_type": "execute_result"
    }
   ],
   "source": [
    "# Распаковка отображений\n",
    "def dump(**kwargs):\n",
    "    return kwargs\n",
    "\n",
    "dump(**{'x':1})\n"
   ]
  },
  {
   "cell_type": "code",
   "execution_count": 13,
   "metadata": {},
   "outputs": [
    {
     "data": {
      "text/plain": [
       "{'a': 2, 'b': 3, 'c': 4}"
      ]
     },
     "execution_count": 13,
     "metadata": {},
     "output_type": "execute_result"
    }
   ],
   "source": [
    "{'a':1, **{'a':2, 'b':3}, 'c':4}"
   ]
  },
  {
   "cell_type": "code",
   "execution_count": 12,
   "metadata": {},
   "outputs": [
    {
     "name": "stdout",
     "output_type": "stream",
     "text": [
      "(1, 2, 3) ([1, 2, 3],)\n"
     ]
    }
   ],
   "source": [
    "# Распаковка\n",
    "def foo(a,b,c):\n",
    "    return a,b,c\n",
    "\n",
    "def bar(*args):\n",
    "    return args\n",
    "\n",
    "print(foo(*[1,2,3]), bar([1,2,3]))\n"
   ]
  },
  {
   "cell_type": "code",
   "execution_count": 20,
   "metadata": {},
   "outputs": [
    {
     "data": {
      "text/plain": [
       "[1, 2, 3, 4]"
      ]
     },
     "execution_count": 20,
     "metadata": {},
     "output_type": "execute_result"
    }
   ],
   "source": [
    "[*[1,2,3], 4]"
   ]
  },
  {
   "cell_type": "code",
   "execution_count": 16,
   "metadata": {},
   "outputs": [
    {
     "data": {
      "text/plain": [
       "{'a': 2, 'b': 3, 'c': 4}"
      ]
     },
     "execution_count": 16,
     "metadata": {},
     "output_type": "execute_result"
    }
   ],
   "source": [
    "# Объединение отображений оператором |\n",
    "d1 = {'a': 1 , 'b':2}\n",
    "d2 = {'a': 2, 'b':3, 'c':4}\n",
    "d1 | d2"
   ]
  },
  {
   "cell_type": "code",
   "execution_count": 19,
   "metadata": {},
   "outputs": [
    {
     "data": {
      "text/plain": [
       "{'a': 1, 'b': 2}"
      ]
     },
     "execution_count": 19,
     "metadata": {},
     "output_type": "execute_result"
    }
   ],
   "source": [
    "d3 = {}\n",
    "d3 |= d1\n",
    "d3\n"
   ]
  },
  {
   "cell_type": "code",
   "execution_count": 36,
   "metadata": {},
   "outputs": [
    {
     "data": {
      "text/plain": [
       "{'squat': 75, 'pull up': 65}"
      ]
     },
     "execution_count": 36,
     "metadata": {},
     "output_type": "execute_result"
    }
   ],
   "source": [
    "# Сопоставление с отображением образцом\n",
    "\n",
    "body_weight = 65\n",
    "\n",
    "exersices_diary = [\n",
    "    {'date': \"01.01.1999\", 'name':'squat', 'weight':70},\n",
    "    {'date': \"01.02.1999\", 'name':'squat', 'weight':75},\n",
    "    {'date': \"01.03.1999\", 'name':'pull up', 'weight': 'body weight'},\n",
    "    {'date': \"04.01.1999\", 'name':'squat', 'weight':71},\n",
    "]\n",
    "\n",
    "def show_best_result_by_exercise(diary:list, body_weight):\n",
    "    best = {}\n",
    "    for record in diary:\n",
    "        match record:\n",
    "            case {'name': name, 'weight':int(weight)}:\n",
    "                if weight > best.get(name, 0):\n",
    "                    best[name] = weight\n",
    "            case {'name': name, 'weight':'body weight'}:\n",
    "                if body_weight > best.get(name, 0):\n",
    "                    best[name] = body_weight\n",
    "    return best\n",
    "\n",
    "body_weight = 65\n",
    "show_best_result_by_exercise(exersices_diary, body_weight)\n"
   ]
  },
  {
   "cell_type": "markdown",
   "metadata": {},
   "source": [
    "# Стандартный API типов отображений"
   ]
  },
  {
   "cell_type": "code",
   "execution_count": 3,
   "metadata": {},
   "outputs": [
    {
     "data": {
      "text/plain": [
       "{'squat': ['01.01.1999', '01.02.1999', '04.01.1999'],\n",
       " 'pull up': ['01.03.1999']}"
      ]
     },
     "execution_count": 3,
     "metadata": {},
     "output_type": "execute_result"
    }
   ],
   "source": [
    "# Вставка и обновление изменяемых значений \n",
    "\n",
    "exersices_diary = [\n",
    "    {'date': \"01.01.1999\", 'name':'squat', 'weight':70},\n",
    "    {'date': \"01.02.1999\", 'name':'squat', 'weight':75},\n",
    "    {'date': \"01.03.1999\", 'name':'pull up', 'weight': 'body weight'},\n",
    "    {'date': \"04.01.1999\", 'name':'squat', 'weight':71},\n",
    "]\n",
    "\n",
    "def exercise_to_date(diary):\n",
    "    ex_to_date = {}\n",
    "    for record in diary:\n",
    "        ex_to_date.setdefault(record.get('name'), []).append(record.get('date'))\n",
    "    return ex_to_date\n",
    "\n",
    "exercise_to_date(exersices_diary)\n"
   ]
  },
  {
   "cell_type": "markdown",
   "metadata": {},
   "source": [
    "# Вариации на тему DICT"
   ]
  },
  {
   "cell_type": "code",
   "execution_count": 3,
   "metadata": {},
   "outputs": [
    {
     "name": "stdout",
     "output_type": "stream",
     "text": [
      "1 6\n"
     ]
    }
   ],
   "source": [
    "# collections.ChainMap\n",
    "# Позволяет просматривать список отображений как единое целое\n",
    "# Копирование не происходит\n",
    "# Поиск начинается с первого, указанного в конструкторе dict'а\n",
    "# Вставка выполняется в первый указаный dict(даже если во втором уже есть такой ключ)\n",
    "# Полезен при реализации итерпретаторов языков со вложенными областями видимости\n",
    "d1 = dict(a=1, b=3)\n",
    "d2 = dict(a=2, b=4, c=6)\n",
    "from collections import ChainMap\n",
    "chain = ChainMap(d1, d2)\n",
    "print(chain['a'], chain['c'])"
   ]
  },
  {
   "cell_type": "code",
   "execution_count": 5,
   "metadata": {},
   "outputs": [
    {
     "data": {
      "text/plain": [
       "Counter({'a': 5, 'b': 2, 'r': 2, 'c': 1, 'd': 1})"
      ]
     },
     "execution_count": 5,
     "metadata": {},
     "output_type": "execute_result"
    }
   ],
   "source": [
    "# collections.Counter\n",
    "# С кажлым ключом ассоциирован счётчик\n",
    "# Обоновление существующего ключа увеличивает его счётчик\n",
    "from collections import Counter\n",
    "ct = Counter('abracadabra')\n",
    "ct"
   ]
  },
  {
   "cell_type": "markdown",
   "metadata": {},
   "source": [
    "# Создание подкласса UserDict вместо dict"
   ]
  },
  {
   "cell_type": "code",
   "execution_count": 6,
   "metadata": {},
   "outputs": [],
   "source": [
    "import collections\n",
    "\n",
    "class StrKeyDict(collections.UserDict):\n",
    "\n",
    "    def __missing__(self, key):\n",
    "        if isinstance(key, str):\n",
    "            raise KeyError(key)\n",
    "        return self[str(key)]\n",
    "    \n",
    "    def __contains__(self, key: object) -> bool:\n",
    "        return str(key) in self.data\n",
    "    \n",
    "    def __setitem__(self, key, item) -> None:\n",
    "        self.data[str(key)] = item"
   ]
  },
  {
   "cell_type": "code",
   "execution_count": 7,
   "metadata": {},
   "outputs": [
    {
     "name": "stdout",
     "output_type": "stream",
     "text": [
      "KeysView({'1': 'blabla', '2': 'vlavla'})\n"
     ]
    }
   ],
   "source": [
    "strKeyDict = StrKeyDict()\n",
    "strKeyDict[1] = 'blabla'\n",
    "strKeyDict[2] = 'vlavla'\n",
    "\n",
    "print(strKeyDict.keys())"
   ]
  },
  {
   "cell_type": "markdown",
   "metadata": {},
   "source": [
    "# Неизменяемые отображения"
   ]
  },
  {
   "cell_type": "code",
   "execution_count": 9,
   "metadata": {},
   "outputs": [
    {
     "name": "stdout",
     "output_type": "stream",
     "text": [
      "{1: 'A'}\n",
      "A\n",
      "{1: 'A', 2: 'B'}\n"
     ]
    }
   ],
   "source": [
    "from types import MappingProxyType\n",
    "d = {1: 'A'}\n",
    "d_proxy = MappingProxyType(d)\n",
    "print(d_proxy)\n",
    "print(d_proxy[1])\n",
    "# d_proxy[2] = 'B' # TypeError: 'mappingproxy' object does not support item assignment\n",
    "d[2] = 'B'\n",
    "print(d_proxy)\n"
   ]
  },
  {
   "cell_type": "markdown",
   "metadata": {},
   "source": [
    "# Представления словаря "
   ]
  },
  {
   "cell_type": "code",
   "execution_count": 12,
   "metadata": {},
   "outputs": [
    {
     "name": "stdout",
     "output_type": "stream",
     "text": [
      "dict_values([10, 20, 30])\n",
      "dict_values([10, 20, 30, 40])\n"
     ]
    }
   ],
   "source": [
    "# методы .keys(), .values() и .items() (возвращают dict_keys, dict_values, dict_items)\n",
    "d = dict(a=10, b=20, c=30)\n",
    "values = d.values()\n",
    "print(values)\n",
    "# values[0] # TypeError: 'dict_values' object is not subscriptable\n",
    "d['d'] = 40\n",
    "print(values)"
   ]
  }
 ],
 "metadata": {
  "kernelspec": {
   "display_name": "Python 3.11.8 64-bit",
   "language": "python",
   "name": "python3"
  },
  "language_info": {
   "codemirror_mode": {
    "name": "ipython",
    "version": 3
   },
   "file_extension": ".py",
   "mimetype": "text/x-python",
   "name": "python",
   "nbconvert_exporter": "python",
   "pygments_lexer": "ipython3",
   "version": "3.11.8"
  },
  "orig_nbformat": 4,
  "vscode": {
   "interpreter": {
    "hash": "2a8dfe095fce2b5e88c64a2c3ee084c8e0e0d70b23e7b95b1cfb538be294c5c8"
   }
  }
 },
 "nbformat": 4,
 "nbformat_minor": 2
}
