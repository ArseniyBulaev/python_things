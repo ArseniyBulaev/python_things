{
 "cells": [
  {
   "cell_type": "markdown",
   "metadata": {},
   "source": [
    "# Построители классов данных\n",
    "## collections.namedtuple\n",
    "## typing.NamedTuple\n",
    "## @dataclasses.dataclass"
   ]
  },
  {
   "cell_type": "markdown",
   "metadata": {},
   "source": [
    "## collections.namedtuple"
   ]
  },
  {
   "cell_type": "code",
   "execution_count": 3,
   "metadata": {},
   "outputs": [
    {
     "name": "stdout",
     "output_type": "stream",
     "text": [
      "True\n",
      "Coordinate(lat=55.756, lon=37.617)\n",
      "True\n"
     ]
    }
   ],
   "source": [
    "from collections import namedtuple\n",
    "Coordinate = namedtuple('Coordinate', 'lat lon')\n",
    "print(issubclass(Coordinate, tuple))\n",
    "moscow = Coordinate(55.756, 37.617)\n",
    "print(moscow)\n",
    "print(moscow == Coordinate(lat=55.756, lon=37.617))\n"
   ]
  },
  {
   "cell_type": "markdown",
   "metadata": {},
   "source": [
    "## typing.NamedTuple"
   ]
  },
  {
   "cell_type": "code",
   "execution_count": 8,
   "metadata": {},
   "outputs": [
    {
     "name": "stdout",
     "output_type": "stream",
     "text": [
      "True\n",
      "{'lat': <class 'float'>, 'lon': <class 'float'>}\n",
      "Coordinate(lat=55.756, lon='37.617aba')\n"
     ]
    }
   ],
   "source": [
    "import typing\n",
    "Coordinate = typing.NamedTuple('Coordinate',\n",
    "    [('lat', float), ('lon', float)]\n",
    ")\n",
    "print(issubclass(Coordinate, tuple))\n",
    "print(typing.get_type_hints(Coordinate))\n",
    "\n",
    "moscow = Coordinate(lat=55.756, lon='37.617aba')\n",
    "print(moscow)"
   ]
  },
  {
   "cell_type": "code",
   "execution_count": 9,
   "metadata": {},
   "outputs": [],
   "source": [
    "from typing import NamedTuple\n",
    "\n",
    "class Coordinate(NamedTuple): # <- Это не наследование\n",
    "    lat:float\n",
    "    lon:float"
   ]
  },
  {
   "cell_type": "markdown",
   "metadata": {},
   "source": [
    "## @dataclass"
   ]
  },
  {
   "cell_type": "code",
   "execution_count": 16,
   "metadata": {},
   "outputs": [],
   "source": [
    "from dataclasses import dataclass\n",
    "from dataclasses import asdict\n",
    "\n",
    "@dataclass(frozen=True)\n",
    "class Coordinate:\n",
    "    lat:float\n",
    "    lon:float"
   ]
  },
  {
   "cell_type": "code",
   "execution_count": 17,
   "metadata": {},
   "outputs": [
    {
     "name": "stdout",
     "output_type": "stream",
     "text": [
      "{'lat': 25, 'lon': 52}\n"
     ]
    }
   ],
   "source": [
    "cor = Coordinate(25, 52)\n",
    "print(asdict(cor))"
   ]
  }
 ],
 "metadata": {
  "kernelspec": {
   "display_name": "Python 3.11.8 64-bit",
   "language": "python",
   "name": "python3"
  },
  "language_info": {
   "codemirror_mode": {
    "name": "ipython",
    "version": 3
   },
   "file_extension": ".py",
   "mimetype": "text/x-python",
   "name": "python",
   "nbconvert_exporter": "python",
   "pygments_lexer": "ipython3",
   "version": "3.11.8"
  },
  "orig_nbformat": 4,
  "vscode": {
   "interpreter": {
    "hash": "2a8dfe095fce2b5e88c64a2c3ee084c8e0e0d70b23e7b95b1cfb538be294c5c8"
   }
  }
 },
 "nbformat": 4,
 "nbformat_minor": 2
}
