{
 "cells": [
  {
   "cell_type": "markdown",
   "metadata": {},
   "source": [
    "Декоратор - это вызываемый объект, который принимает другую функцию в качестве аргумента (декорируемую функцию). Декоратор может производить какие-то операции с функцией и возвращает либо её саму, либо другую заменяющую её функцию или вызываемый объект\n",
    "\n",
    "* Декоратор - это функция или другой вызываемый объект\n",
    "* Декоратор может заменить декорируемую функцию другой\n",
    "* Декораторы выполняются сразу после загрузки модуля (сами декорируемые функции - только в результате явного вызова)"
   ]
  },
  {
   "cell_type": "code",
   "execution_count": 1,
   "metadata": {},
   "outputs": [],
   "source": [
    "def deco(func):\n",
    "    def inner():\n",
    "        print('running inner()')\n",
    "    return inner\n"
   ]
  },
  {
   "cell_type": "code",
   "execution_count": 2,
   "metadata": {},
   "outputs": [],
   "source": [
    "# Код:\n",
    "@deco\n",
    "def target():\n",
    "    print('running target()')\n",
    "\n",
    "# Эквивалентен коду\n",
    "def target():\n",
    "    print('running target()')\n",
    "\n",
    "target = deco(target)"
   ]
  },
  {
   "cell_type": "code",
   "execution_count": 3,
   "metadata": {},
   "outputs": [
    {
     "name": "stdout",
     "output_type": "stream",
     "text": [
      "running inner()\n"
     ]
    }
   ],
   "source": [
    "target()"
   ]
  },
  {
   "cell_type": "markdown",
   "metadata": {},
   "source": [
    "Правила видимости переменных"
   ]
  },
  {
   "cell_type": "code",
   "execution_count": 4,
   "metadata": {},
   "outputs": [
    {
     "name": "stdout",
     "output_type": "stream",
     "text": [
      "3\n"
     ]
    },
    {
     "ename": "UnboundLocalError",
     "evalue": "cannot access local variable 'b' where it is not associated with a value",
     "output_type": "error",
     "traceback": [
      "\u001b[1;31m---------------------------------------------------------------------------\u001b[0m",
      "\u001b[1;31mUnboundLocalError\u001b[0m                         Traceback (most recent call last)",
      "Cell \u001b[1;32mIn[4], line 6\u001b[0m\n\u001b[0;32m      4\u001b[0m     \u001b[38;5;28mprint\u001b[39m(b) \u001b[38;5;66;03m# Всякая переменная, которая присваивается в теле функции, является локальной\u001b[39;00m\n\u001b[0;32m      5\u001b[0m     b \u001b[38;5;241m=\u001b[39m \u001b[38;5;241m9\u001b[39m\n\u001b[1;32m----> 6\u001b[0m \u001b[43mf2\u001b[49m\u001b[43m(\u001b[49m\u001b[38;5;241;43m3\u001b[39;49m\u001b[43m)\u001b[49m\n",
      "Cell \u001b[1;32mIn[4], line 4\u001b[0m, in \u001b[0;36mf2\u001b[1;34m(a)\u001b[0m\n\u001b[0;32m      2\u001b[0m \u001b[38;5;28;01mdef\u001b[39;00m \u001b[38;5;21mf2\u001b[39m(a):\n\u001b[0;32m      3\u001b[0m     \u001b[38;5;28mprint\u001b[39m(a)\n\u001b[1;32m----> 4\u001b[0m     \u001b[38;5;28mprint\u001b[39m(\u001b[43mb\u001b[49m) \u001b[38;5;66;03m# Всякая переменная, которая присваивается в теле функции, является локальной\u001b[39;00m\n\u001b[0;32m      5\u001b[0m     b \u001b[38;5;241m=\u001b[39m \u001b[38;5;241m9\u001b[39m\n",
      "\u001b[1;31mUnboundLocalError\u001b[0m: cannot access local variable 'b' where it is not associated with a value"
     ]
    }
   ],
   "source": [
    "b = 6\n",
    "def f2(a):\n",
    "    print(a)\n",
    "    print(b) # Всякая переменная, которая присваивается в теле функции, является локальной\n",
    "    b = 9\n",
    "f2(3)"
   ]
  },
  {
   "cell_type": "markdown",
   "metadata": {},
   "source": [
    "Сравнение байт-кода"
   ]
  },
  {
   "cell_type": "code",
   "execution_count": null,
   "metadata": {},
   "outputs": [],
   "source": [
    "def f1(a):\n",
    "    print(a)\n",
    "    print(b)\n",
    "\n",
    "b = 6\n",
    "def f2(a):\n",
    "    print(a)\n",
    "    print(b)\n",
    "    b = 9"
   ]
  },
  {
   "cell_type": "code",
   "execution_count": null,
   "metadata": {},
   "outputs": [],
   "source": [
    "from dis import dis"
   ]
  },
  {
   "cell_type": "code",
   "execution_count": null,
   "metadata": {},
   "outputs": [
    {
     "name": "stdout",
     "output_type": "stream",
     "text": [
      "  1           0 RESUME                   0\n",
      "\n",
      "  2           2 LOAD_GLOBAL              1 (NULL + print)\n",
      "             14 LOAD_FAST                0 (a)\n",
      "             16 PRECALL                  1\n",
      "             20 CALL                     1\n",
      "             30 POP_TOP\n",
      "\n",
      "  3          32 LOAD_GLOBAL              1 (NULL + print)\n",
      "             44 LOAD_GLOBAL              2 (b)\n",
      "             56 PRECALL                  1\n",
      "             60 CALL                     1\n",
      "             70 POP_TOP\n",
      "             72 LOAD_CONST               0 (None)\n",
      "             74 RETURN_VALUE\n"
     ]
    }
   ],
   "source": [
    "dis(f1)"
   ]
  },
  {
   "cell_type": "code",
   "execution_count": null,
   "metadata": {},
   "outputs": [
    {
     "name": "stdout",
     "output_type": "stream",
     "text": [
      "  6           0 RESUME                   0\n",
      "\n",
      "  7           2 LOAD_GLOBAL              1 (NULL + print)\n",
      "             14 LOAD_FAST                0 (a)\n",
      "             16 PRECALL                  1\n",
      "             20 CALL                     1\n",
      "             30 POP_TOP\n",
      "\n",
      "  8          32 LOAD_GLOBAL              1 (NULL + print)\n",
      "             44 LOAD_FAST                1 (b)\n",
      "             46 PRECALL                  1\n",
      "             50 CALL                     1\n",
      "             60 POP_TOP\n",
      "\n",
      "  9          62 LOAD_CONST               1 (9)\n",
      "             64 STORE_FAST               1 (b)\n",
      "             66 LOAD_CONST               0 (None)\n",
      "             68 RETURN_VALUE\n"
     ]
    }
   ],
   "source": [
    "dis(f2)"
   ]
  },
  {
   "cell_type": "markdown",
   "metadata": {},
   "source": [
    "Замыкания\n",
    "* Замыкание - это функция, назовем ее f, с расширенной областью видимости, которая охватывает переменные, на которые есть ссылки в теле f, но которые не являются ни глобальными, ни локальными переменными f. Такие переменные должны происходить из локальной области видимости внешней функции, объемлющей f."
   ]
  },
  {
   "cell_type": "code",
   "execution_count": null,
   "metadata": {},
   "outputs": [],
   "source": [
    "# Пример замыкания\n",
    "def make_averager():\n",
    "    series = []\n",
    "    def averager(new_value):\n",
    "        series.append(new_value)\n",
    "        total = sum(series)\n",
    "        return total / len(series)\n",
    "    return averager"
   ]
  },
  {
   "cell_type": "code",
   "execution_count": null,
   "metadata": {},
   "outputs": [
    {
     "data": {
      "text/plain": [
       "10.0"
      ]
     },
     "execution_count": 9,
     "metadata": {},
     "output_type": "execute_result"
    }
   ],
   "source": [
    "avg = make_averager()\n",
    "avg(1)\n",
    "avg(2)\n",
    "avg2 = make_averager()\n",
    "avg2(10)\n"
   ]
  },
  {
   "cell_type": "code",
   "execution_count": null,
   "metadata": {},
   "outputs": [],
   "source": [
    "def make_averager_v2():\n",
    "    series = []\n",
    "    def avarager(new_value):\n",
    "        series += [2]\n",
    "        total = sum(series)\n",
    "        return total/ len(series)\n",
    "    return avarager"
   ]
  },
  {
   "cell_type": "code",
   "execution_count": null,
   "metadata": {},
   "outputs": [
    {
     "ename": "UnboundLocalError",
     "evalue": "cannot access local variable 'series' where it is not associated with a value",
     "output_type": "error",
     "traceback": [
      "\u001b[1;31m---------------------------------------------------------------------------\u001b[0m",
      "\u001b[1;31mUnboundLocalError\u001b[0m                         Traceback (most recent call last)",
      "Cell \u001b[1;32mIn[11], line 2\u001b[0m\n\u001b[0;32m      1\u001b[0m avg3 \u001b[38;5;241m=\u001b[39m make_averager_v2()\n\u001b[1;32m----> 2\u001b[0m \u001b[43mavg3\u001b[49m\u001b[43m(\u001b[49m\u001b[38;5;241;43m1\u001b[39;49m\u001b[43m)\u001b[49m\n",
      "Cell \u001b[1;32mIn[10], line 4\u001b[0m, in \u001b[0;36mmake_averager_v2.<locals>.avarager\u001b[1;34m(new_value)\u001b[0m\n\u001b[0;32m      3\u001b[0m \u001b[38;5;28;01mdef\u001b[39;00m \u001b[38;5;21mavarager\u001b[39m(new_value):\n\u001b[1;32m----> 4\u001b[0m     \u001b[43mseries\u001b[49m \u001b[38;5;241m+\u001b[39m\u001b[38;5;241m=\u001b[39m [\u001b[38;5;241m2\u001b[39m]\n\u001b[0;32m      5\u001b[0m     total \u001b[38;5;241m=\u001b[39m \u001b[38;5;28msum\u001b[39m(series)\n\u001b[0;32m      6\u001b[0m     \u001b[38;5;28;01mreturn\u001b[39;00m total\u001b[38;5;241m/\u001b[39m \u001b[38;5;28mlen\u001b[39m(series)\n",
      "\u001b[1;31mUnboundLocalError\u001b[0m: cannot access local variable 'series' where it is not associated with a value"
     ]
    }
   ],
   "source": [
    "avg3 = make_averager_v2()\n",
    "avg3(1)"
   ]
  },
  {
   "cell_type": "markdown",
   "metadata": {},
   "source": [
    "Логика поиска переменных\n",
    "* Если имеется объявление global x, то x берётся из него и присваивается глобальной переменной x уровня модуля;\n",
    "* Если имеется объявление nonlocal x, то x берётся из него и присваивается локальной переменной x в ближайшей объемлющей функции, в которой x определена;\n",
    "* Если x - параметр или её присвоено значение в теле функции, то x - локальная переменная;\n"
   ]
  },
  {
   "cell_type": "code",
   "execution_count": null,
   "metadata": {},
   "outputs": [
    {
     "ename": "SyntaxError",
     "evalue": "no binding for nonlocal 'i_am_from_test_nonlocal' found (668899564.py, line 3)",
     "output_type": "error",
     "traceback": [
      "\u001b[1;36m  Cell \u001b[1;32mIn[13], line 3\u001b[1;36m\u001b[0m\n\u001b[1;33m    nonlocal i_am_from_test_nonlocal\u001b[0m\n\u001b[1;37m    ^\u001b[0m\n\u001b[1;31mSyntaxError\u001b[0m\u001b[1;31m:\u001b[0m no binding for nonlocal 'i_am_from_test_nonlocal' found\n"
     ]
    }
   ],
   "source": [
    "def test():\n",
    "    global i_am_from_test_global\n",
    "    i_am_from_test = 2\n",
    "\n",
    "test()\n",
    "print(i_am_from_test_global)"
   ]
  },
  {
   "cell_type": "markdown",
   "metadata": {},
   "source": [
    "Реализация простого декоратора"
   ]
  },
  {
   "cell_type": "code",
   "execution_count": null,
   "metadata": {},
   "outputs": [],
   "source": [
    "import time\n",
    "import functools\n",
    "\n",
    "def clock(func):\n",
    "    @functools.wraps(func)\n",
    "    def clocked(*args, **kwargs):\n",
    "        t0 = time.perf_counter()\n",
    "        result = func(*args, **kwargs)\n",
    "        elapsed = time.perf_counter() - t0\n",
    "        name = func.__name__\n",
    "        arg_lst = [repr(arg) for arg in args]\n",
    "        arg_lst.extend(f'{k}={v!r}' for k, v in kwargs.items())\n",
    "        arg_str = \", \".join(arg_lst)\n",
    "        print(f'[{elapsed:0.8f}s] {name}({arg_str}) -> {result!r}')\n",
    "        return result\n",
    "    return clocked"
   ]
  },
  {
   "cell_type": "code",
   "execution_count": null,
   "metadata": {},
   "outputs": [],
   "source": [
    "@clock\n",
    "def some_test():\n",
    "    test = range(1, 10000000)\n",
    "    return sum(test)"
   ]
  },
  {
   "cell_type": "code",
   "execution_count": null,
   "metadata": {},
   "outputs": [
    {
     "name": "stdout",
     "output_type": "stream",
     "text": [
      "[0.49324320s] some_test() -> 49999995000000\n",
      "some_test\n"
     ]
    }
   ],
   "source": [
    "some_test()\n",
    "print(some_test.__name__)"
   ]
  },
  {
   "cell_type": "markdown",
   "metadata": {},
   "source": [
    "# Декораторы в стандартной библиотеке"
   ]
  },
  {
   "cell_type": "markdown",
   "metadata": {},
   "source": [
    "\n",
    "* functools.cache - реализует запоминание (memoization): сохранение результатов предыдущих вызовов для избежания повторного вычисления. Работает с версии 3.9. Обёртка для functools.lru_cache;\n",
    "* functools.lru_cache - делает то же самое, что и functools.cache, но можно ограничить число сохраняемых результатов (по умолчанию 128). Элементы, к которым давно не было обращений, вытесняются, чтобы освободить место для новых. lru - least recently used"
   ]
  },
  {
   "cell_type": "code",
   "execution_count": null,
   "metadata": {},
   "outputs": [],
   "source": [
    "@clock\n",
    "def fibonacci(n):\n",
    "    if n < 2:\n",
    "        return n\n",
    "    return fibonacci(n - 2) + fibonacci(n - 1)"
   ]
  },
  {
   "cell_type": "code",
   "execution_count": null,
   "metadata": {},
   "outputs": [
    {
     "name": "stdout",
     "output_type": "stream",
     "text": [
      "[0.00000090s] fibonacci(0) -> 0\n",
      "[0.00000140s] fibonacci(1) -> 1\n",
      "[0.00015290s] fibonacci(2) -> 1\n",
      "[0.00000060s] fibonacci(1) -> 1\n",
      "[0.00000070s] fibonacci(0) -> 0\n",
      "[0.00000050s] fibonacci(1) -> 1\n",
      "[0.00003450s] fibonacci(2) -> 1\n",
      "[0.00007020s] fibonacci(3) -> 2\n",
      "[0.00025400s] fibonacci(4) -> 3\n",
      "[0.00000040s] fibonacci(1) -> 1\n",
      "[0.00000030s] fibonacci(0) -> 0\n",
      "[0.00000040s] fibonacci(1) -> 1\n",
      "[0.00002460s] fibonacci(2) -> 1\n",
      "[0.00004940s] fibonacci(3) -> 2\n",
      "[0.00000040s] fibonacci(0) -> 0\n",
      "[0.00000040s] fibonacci(1) -> 1\n",
      "[0.00002570s] fibonacci(2) -> 1\n",
      "[0.00000030s] fibonacci(1) -> 1\n",
      "[0.00000050s] fibonacci(0) -> 0\n",
      "[0.00000040s] fibonacci(1) -> 1\n",
      "[0.00002620s] fibonacci(2) -> 1\n",
      "[0.00005200s] fibonacci(3) -> 2\n",
      "[0.00010300s] fibonacci(4) -> 3\n",
      "[0.00017770s] fibonacci(5) -> 5\n",
      "[0.00045860s] fibonacci(6) -> 8\n"
     ]
    },
    {
     "data": {
      "text/plain": [
       "8"
      ]
     },
     "execution_count": 29,
     "metadata": {},
     "output_type": "execute_result"
    }
   ],
   "source": [
    "fibonacci(6)"
   ]
  },
  {
   "cell_type": "code",
   "execution_count": null,
   "metadata": {},
   "outputs": [],
   "source": [
    "@functools.cache\n",
    "@clock\n",
    "def fibonacci(n):\n",
    "    if n < 2:\n",
    "        return n\n",
    "    return fibonacci(n - 2) + fibonacci(n - 1)"
   ]
  },
  {
   "cell_type": "code",
   "execution_count": null,
   "metadata": {},
   "outputs": [
    {
     "name": "stdout",
     "output_type": "stream",
     "text": [
      "[0.00000050s] fibonacci(0) -> 0\n",
      "[0.00000150s] fibonacci(1) -> 1\n",
      "[0.00039150s] fibonacci(2) -> 1\n",
      "[0.00000110s] fibonacci(3) -> 2\n",
      "[0.00042300s] fibonacci(4) -> 3\n",
      "[0.00000100s] fibonacci(5) -> 5\n",
      "[0.00045270s] fibonacci(6) -> 8\n"
     ]
    },
    {
     "data": {
      "text/plain": [
       "8"
      ]
     },
     "execution_count": 40,
     "metadata": {},
     "output_type": "execute_result"
    }
   ],
   "source": [
    "fibonacci(6)"
   ]
  },
  {
   "cell_type": "markdown",
   "metadata": {},
   "source": [
    "* functools.singledispatch - декоратор, который можно использовать для имитации перегрузки функции. Обычная функция, декорированная @singledispatch, становится точкой входа для обобщённой функции: группы функций, выполняющих одну и ту же логическую операцию по-разному в зависимости от типа первого аргумента. Это называется одиночной диспетчеризацией. "
   ]
  },
  {
   "cell_type": "code",
   "execution_count": null,
   "metadata": {},
   "outputs": [],
   "source": [
    "from functools import singledispatch\n",
    "\n",
    "class GameCharacter:\n",
    "    def __init__(self) -> None:\n",
    "        self.status = \"alive\"\n",
    "    def __repr__(self) -> str:\n",
    "        return f'GameCharacter()'\n",
    "        \n",
    "class Thief(GameCharacter):\n",
    "    def __init__(self) -> None:\n",
    "        super().__init__()\n",
    "    def __repr__(self) -> str:\n",
    "        return f'Thief()'\n",
    "\n",
    "class Wizard(GameCharacter):\n",
    "    def __init__(self) -> None:\n",
    "        super().__init__()\n",
    "    def __repr__(self) -> str:\n",
    "        return f'Wizard()'\n",
    "\n",
    "@singledispatch\n",
    "def trap(game_character: GameCharacter):\n",
    "    game_character.status = 'disappeared'\n",
    "\n",
    "@trap.register\n",
    "def _(game_character: Thief):\n",
    "    # Ничего не делаем, так как вору ловушки нипочём\n",
    "    pass\n",
    "\n",
    "@trap.register\n",
    "def _(game_character: Wizard):\n",
    "    # Для волшебника не так всё радужно\n",
    "    game_character.status = 'dead'\n",
    "\n"
   ]
  },
  {
   "cell_type": "code",
   "execution_count": null,
   "metadata": {},
   "outputs": [
    {
     "name": "stdout",
     "output_type": "stream",
     "text": [
      "Wizard() dead\n",
      "Thief() alive\n",
      "GameCharacter() disappeared\n"
     ]
    }
   ],
   "source": [
    "game_characters = [Wizard(), Thief(), GameCharacter()]\n",
    "for game_character in game_characters:\n",
    "    trap(game_character)\n",
    "    print(game_character, game_character.status)"
   ]
  },
  {
   "cell_type": "code",
   "execution_count": null,
   "metadata": {},
   "outputs": [
    {
     "name": "stdout",
     "output_type": "stream",
     "text": [
      "A\n",
      "dispatch\n",
      "default\n"
     ]
    }
   ],
   "source": [
    "from functools import singledispatch\n",
    "\n",
    "@singledispatch\n",
    "def method(a) -> str:\n",
    "    return \"default\"\n",
    "\n",
    "@method.register\n",
    "def _(b) -> str:\n",
    "    return \"dispatch\"\n",
    "\n",
    "class A:\n",
    "    pass\n",
    "\n",
    "@method.register\n",
    "def _(aObject: A) -> str:\n",
    "    return \"A\"\n",
    "\n",
    "print(method(A()))\n",
    "print(method(\"bla bla\"))\n",
    "print(method(object()))"
   ]
  },
  {
   "cell_type": "markdown",
   "metadata": {},
   "source": [
    "Параметризованные декораторы"
   ]
  },
  {
   "cell_type": "code",
   "execution_count": null,
   "metadata": {},
   "outputs": [
    {
     "name": "stdout",
     "output_type": "stream",
     "text": [
      "running register(<function f1 at 0x000001f8bea0eb60>)\n",
      "running main()\n",
      "registry -> [<function f1 at 0x000001f8bea0eb60>]\n",
      "running f1()\n"
     ]
    }
   ],
   "source": [
    "# Без параметров\n",
    "\n",
    "registry = []\n",
    "\n",
    "def register(func):\n",
    "    print(f'running register({func})')\n",
    "    registry.append(func)\n",
    "    return func\n",
    "\n",
    "@register\n",
    "def f1():\n",
    "    print('running f1()')\n",
    "\n",
    "print('running main()')\n",
    "print('registry ->', registry)\n",
    "f1()"
   ]
  },
  {
   "cell_type": "code",
   "execution_count": 5,
   "metadata": {},
   "outputs": [
    {
     "name": "stdout",
     "output_type": "stream",
     "text": [
      "running register (active=False)->decorate(<function f1 at 0x0000029c28dce700>)\n",
      "running register (active=True)->decorate(<function f2 at 0x0000029c28f10cc0>)\n"
     ]
    }
   ],
   "source": [
    "import registration_param"
   ]
  },
  {
   "cell_type": "code",
   "execution_count": 7,
   "metadata": {},
   "outputs": [],
   "source": [
    "def f3():\n",
    "    print('running f3()')"
   ]
  },
  {
   "cell_type": "code",
   "execution_count": 14,
   "metadata": {},
   "outputs": [
    {
     "name": "stdout",
     "output_type": "stream",
     "text": [
      "{<function f3 at 0x0000029c29a14220>, <function f2 at 0x0000029c28f10cc0>}\n",
      "running register (active=True)->decorate(<function f3 at 0x0000029c29a14220>)\n",
      "{<function f3 at 0x0000029c29a14220>, <function f2 at 0x0000029c28f10cc0>}\n",
      "running register (active=False)->decorate(<function f3 at 0x0000029c29a14220>)\n",
      "{<function f2 at 0x0000029c28f10cc0>}\n"
     ]
    }
   ],
   "source": [
    "print(registration_param.registry)\n",
    "registration_param.register()(f3)\n",
    "print(registration_param.registry)\n",
    "registration_param.register(active=False)(f3)\n",
    "print(registration_param.registry)"
   ]
  },
  {
   "cell_type": "code",
   "execution_count": 16,
   "metadata": {},
   "outputs": [
    {
     "name": "stdout",
     "output_type": "stream",
     "text": [
      "time = 0.124s\n",
      "time = 0.124s\n",
      "time = 0.126s\n"
     ]
    }
   ],
   "source": [
    "import time\n",
    "from clockdeco_param import clock\n",
    "\n",
    "@clock('time = {elapsed:0.3f}s')\n",
    "def snooze(seconds):\n",
    "    time.sleep(seconds)\n",
    "\n",
    "for i in range(3):\n",
    "    snooze(.123)"
   ]
  }
 ],
 "metadata": {
  "kernelspec": {
   "display_name": "Python 3.11.8 64-bit",
   "language": "python",
   "name": "python3"
  },
  "language_info": {
   "codemirror_mode": {
    "name": "ipython",
    "version": 3
   },
   "file_extension": ".py",
   "mimetype": "text/x-python",
   "name": "python",
   "nbconvert_exporter": "python",
   "pygments_lexer": "ipython3",
   "version": "3.11.8"
  },
  "orig_nbformat": 4,
  "vscode": {
   "interpreter": {
    "hash": "2a8dfe095fce2b5e88c64a2c3ee084c8e0e0d70b23e7b95b1cfb538be294c5c8"
   }
  }
 },
 "nbformat": 4,
 "nbformat_minor": 2
}
