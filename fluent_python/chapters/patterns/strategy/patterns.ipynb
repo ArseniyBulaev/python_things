{
 "cells": [
  {
   "cell_type": "markdown",
   "metadata": {},
   "source": [
    "Практический пример: переработка паттерна стратегия"
   ]
  },
  {
   "cell_type": "markdown",
   "metadata": {},
   "source": [
    "![alt text](strategy.png \"Title\")"
   ]
  },
  {
   "cell_type": "code",
   "execution_count": 1,
   "metadata": {},
   "outputs": [],
   "source": [
    "from strategy import *"
   ]
  },
  {
   "cell_type": "code",
   "execution_count": 2,
   "metadata": {},
   "outputs": [
    {
     "name": "stdout",
     "output_type": "stream",
     "text": [
      "<Order total: 42.00 due: 42.00>\n",
      "<Order total: 42.00 due: 39.90>\n"
     ]
    }
   ],
   "source": [
    "joe = Customer('John Doe', 0)\n",
    "ann = Customer('Ann Smith', 1010)\n",
    "cart = (\n",
    "    LineItem('banana', 4, Decimal('.5')),\n",
    "    LineItem('apple', 10, Decimal('1.5')),\n",
    "    LineItem('watermelon', 5, Decimal(5))\n",
    ")\n",
    "print(Order(joe, cart, FidelityPromo()))\n",
    "print(Order(ann, cart, FidelityPromo()))"
   ]
  },
  {
   "cell_type": "code",
   "execution_count": 3,
   "metadata": {},
   "outputs": [
    {
     "name": "stdout",
     "output_type": "stream",
     "text": [
      "<Order total: 350.00 due: 325.00>\n"
     ]
    }
   ],
   "source": [
    "cat_cart = (\n",
    "    LineItem('black cat', 25, Decimal(10)),\n",
    "    LineItem('white cat', 10, Decimal(10))\n",
    ")\n",
    "\n",
    "print(Order(joe, cat_cart, BulkItemPromotion()))"
   ]
  },
  {
   "cell_type": "code",
   "execution_count": 4,
   "metadata": {},
   "outputs": [
    {
     "name": "stdout",
     "output_type": "stream",
     "text": [
      "<Order total: 10.00 due: 9.30>\n"
     ]
    }
   ],
   "source": [
    "long_cart = tuple(LineItem(f'line item {i}', 1, Decimal(1)) for i in range(10))\n",
    "\n",
    "print(Order(ann, long_cart, LargeOrderPromo()))"
   ]
  },
  {
   "cell_type": "code",
   "execution_count": 5,
   "metadata": {},
   "outputs": [],
   "source": [
    "import functional_strategy as fs"
   ]
  },
  {
   "cell_type": "code",
   "execution_count": 6,
   "metadata": {},
   "outputs": [],
   "source": [
    "joe = fs.Customer('John Doe', 0)\n",
    "ann = fs.Customer('Ann Smith', 1010)\n",
    "cart = (\n",
    "    fs.LineItem('banana', 4, Decimal('.5')),\n",
    "    fs.LineItem('apple', 10, Decimal('1.5')),\n",
    "    fs.LineItem('watermelon', 5, Decimal(5))\n",
    ")\n",
    "banana_cart = (\n",
    "    fs.LineItem('banana', 30, Decimal('.5')),\n",
    "    fs.LineItem('apple', 10, Decimal('1.5')),\n",
    ")\n",
    "long_cart = tuple(fs.LineItem(f'line item {i}', 1, Decimal(1)) for i in range(10))"
   ]
  },
  {
   "cell_type": "code",
   "execution_count": 7,
   "metadata": {},
   "outputs": [
    {
     "name": "stdout",
     "output_type": "stream",
     "text": [
      "<Order total: 10.00 due: 9.30>\n",
      "<Order total: 30.00 due: 28.50>\n",
      "<Order total: 42.00 due: 39.90>\n"
     ]
    }
   ],
   "source": [
    "print(fs.Order(joe, long_cart, fs.best_promo))\n",
    "print(fs.Order(joe, banana_cart, fs.best_promo))\n",
    "print(fs.Order(ann, cart, fs.best_promo))"
   ]
  }
 ],
 "metadata": {
  "kernelspec": {
   "display_name": "Python 3.11.8 64-bit",
   "language": "python",
   "name": "python3"
  },
  "language_info": {
   "codemirror_mode": {
    "name": "ipython",
    "version": 3
   },
   "file_extension": ".py",
   "mimetype": "text/x-python",
   "name": "python",
   "nbconvert_exporter": "python",
   "pygments_lexer": "ipython3",
   "version": "3.11.8"
  },
  "orig_nbformat": 4,
  "vscode": {
   "interpreter": {
    "hash": "2a8dfe095fce2b5e88c64a2c3ee084c8e0e0d70b23e7b95b1cfb538be294c5c8"
   }
  }
 },
 "nbformat": 4,
 "nbformat_minor": 2
}
