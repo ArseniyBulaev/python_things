{
 "cells": [
  {
   "cell_type": "markdown",
   "metadata": {},
   "source": [
    "Форматирование при выводе"
   ]
  },
  {
   "cell_type": "markdown",
   "metadata": {},
   "source": [
    "Встроенная функция format() и метод str.format() делегируют форматирование конкретному типу, вызывая его метод .__ format __(format_spec)"
   ]
  },
  {
   "cell_type": "code",
   "execution_count": 1,
   "metadata": {},
   "outputs": [],
   "source": [
    "brl = 1 / 4.82"
   ]
  },
  {
   "cell_type": "code",
   "execution_count": 3,
   "metadata": {},
   "outputs": [
    {
     "name": "stdout",
     "output_type": "stream",
     "text": [
      "0.2075\n",
      "1 BRL = 0.21 USD\n",
      "1 USD = 4.82 BRL\n"
     ]
    }
   ],
   "source": [
    "print(format(brl, '0.4f'))\n",
    "print('1 BRL = {rate:0.2f} USD'.format(rate=brl))\n",
    "print(f'1 USD = {1 / brl:0.2f} BRL')"
   ]
  },
  {
   "cell_type": "code",
   "execution_count": 4,
   "metadata": {},
   "outputs": [
    {
     "name": "stdout",
     "output_type": "stream",
     "text": [
      "101010\n",
      "66.7%\n"
     ]
    }
   ],
   "source": [
    "print(format(42, 'b'))\n",
    "print(format(2 / 3, '.1%'))"
   ]
  }
 ],
 "metadata": {
  "kernelspec": {
   "display_name": "Python 3.11.8 64-bit",
   "language": "python",
   "name": "python3"
  },
  "language_info": {
   "codemirror_mode": {
    "name": "ipython",
    "version": 3
   },
   "file_extension": ".py",
   "mimetype": "text/x-python",
   "name": "python",
   "nbconvert_exporter": "python",
   "pygments_lexer": "ipython3",
   "version": "3.11.8"
  },
  "orig_nbformat": 4,
  "vscode": {
   "interpreter": {
    "hash": "2a8dfe095fce2b5e88c64a2c3ee084c8e0e0d70b23e7b95b1cfb538be294c5c8"
   }
  }
 },
 "nbformat": 4,
 "nbformat_minor": 2
}
