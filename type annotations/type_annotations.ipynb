{
 "cells": [
  {
   "cell_type": "markdown",
   "metadata": {},
   "source": [
    "Типы, пригодные для использования в аннотациях\n",
    "* Тип Any - аргумент или возвращаемое значение могут быть любыми. Считается, что тип Any поддерживает любую операцию.\n",
    "* Простые типы и классы\n",
    "* Типы Optional и Union\n",
    "* Обобщённые коллекции\n",
    "* Типы кортежей\n",
    "* Обобщённые отображения\n",
    "* Абстрактные базовые классы\n",
    "* Тип Iterable\n",
    "* Параметризованные обобщённые типы и TypeVar\n",
    "* Статические протоколы\n",
    "* Тип Callable\n",
    "* Тип NoReturn"
   ]
  },
  {
   "cell_type": "code",
   "execution_count": 2,
   "metadata": {},
   "outputs": [],
   "source": [
    "from typing import Any, Optional, Union"
   ]
  },
  {
   "cell_type": "code",
   "execution_count": 3,
   "metadata": {},
   "outputs": [],
   "source": [
    "# Тип Any\n",
    "def double(x: Any) -> Any:\n",
    "    return x * 2"
   ]
  },
  {
   "cell_type": "code",
   "execution_count": 6,
   "metadata": {},
   "outputs": [
    {
     "name": "stdout",
     "output_type": "stream",
     "text": [
      "bar\n",
      "bar\n",
      "bar\n",
      "car\n"
     ]
    }
   ],
   "source": [
    "# Тип Optional\n",
    "def foo(x: Optional[str] = None):\n",
    "    if x is not None:\n",
    "        print(x)\n",
    "    else:\n",
    "        print('bar')\n",
    "\n",
    "foo(None)\n",
    "foo()\n",
    "foo()\n",
    "foo('car')"
   ]
  },
  {
   "cell_type": "code",
   "execution_count": 7,
   "metadata": {},
   "outputs": [
    {
     "name": "stdout",
     "output_type": "stream",
     "text": [
      "100.0\n"
     ]
    }
   ],
   "source": [
    "# Тип Union\n",
    "def parse_token(token: str) -> Union[str, float]:\n",
    "    try:\n",
    "        return float(token)\n",
    "    except ValueError:\n",
    "        return token\n",
    "\n",
    "result = parse_token('22') + 78\n",
    "print(result)"
   ]
  },
  {
   "cell_type": "code",
   "execution_count": 7,
   "metadata": {},
   "outputs": [],
   "source": [
    "# Параметризированные обобщённые типы и TypeVar\n",
    "from collections.abc import Sequence\n",
    "from random import shuffle\n",
    "from typing import TypeVar\n",
    "\n",
    "T = TypeVar('T')\n",
    "\n",
    "def sample(population: Sequence[T], size: int) -> list[T]:\n",
    "    if size < 1:\n",
    "        raise ValueError('size must be >= 1')\n",
    "    result = list(population)\n",
    "    shuffle(result)\n",
    "    return result[:size]"
   ]
  },
  {
   "cell_type": "code",
   "execution_count": 25,
   "metadata": {},
   "outputs": [
    {
     "name": "stdout",
     "output_type": "stream",
     "text": [
      "['uta']\n",
      "[2, 1]\n",
      "['l', 'a', 'b']\n"
     ]
    }
   ],
   "source": [
    "print(sample(['bla','kva', 'uta'], 1))\n",
    "print(sample((1,2,3,4), 2))\n",
    "print(sample(\"blauvakvanva\", 3))"
   ]
  },
  {
   "cell_type": "code",
   "execution_count": 2,
   "metadata": {},
   "outputs": [],
   "source": [
    "from typing import Protocol, Self, Any, TypeVar\n",
    "\n",
    "class SupportsMul(Protocol):\n",
    "    def __mul__(self, other: Any) -> Self: ...\n",
    "\n",
    "M = TypeVar('M', bound=SupportsMul)\n",
    "\n",
    "def double(value: M):\n",
    "    return value.__mul__(2)"
   ]
  },
  {
   "cell_type": "code",
   "execution_count": 4,
   "metadata": {},
   "outputs": [
    {
     "ename": "AttributeError",
     "evalue": "'object' object has no attribute '__mul__'",
     "output_type": "error",
     "traceback": [
      "\u001b[1;31m---------------------------------------------------------------------------\u001b[0m",
      "\u001b[1;31mAttributeError\u001b[0m                            Traceback (most recent call last)",
      "Cell \u001b[1;32mIn[4], line 3\u001b[0m\n\u001b[0;32m      1\u001b[0m double(\u001b[38;5;241m2\u001b[39m)\n\u001b[0;32m      2\u001b[0m double(\u001b[38;5;124m'\u001b[39m\u001b[38;5;124many\u001b[39m\u001b[38;5;124m'\u001b[39m)\n\u001b[1;32m----> 3\u001b[0m \u001b[43mdouble\u001b[49m\u001b[43m(\u001b[49m\u001b[38;5;28;43mobject\u001b[39;49m\u001b[43m(\u001b[49m\u001b[43m)\u001b[49m\u001b[43m)\u001b[49m\n",
      "Cell \u001b[1;32mIn[2], line 9\u001b[0m, in \u001b[0;36mdouble\u001b[1;34m(value)\u001b[0m\n\u001b[0;32m      8\u001b[0m \u001b[38;5;28;01mdef\u001b[39;00m \u001b[38;5;21mdouble\u001b[39m(value: M):\n\u001b[1;32m----> 9\u001b[0m     \u001b[38;5;28;01mreturn\u001b[39;00m \u001b[43mvalue\u001b[49m\u001b[38;5;241;43m.\u001b[39;49m\u001b[38;5;21;43m__mul__\u001b[39;49m(\u001b[38;5;241m2\u001b[39m)\n",
      "\u001b[1;31mAttributeError\u001b[0m: 'object' object has no attribute '__mul__'"
     ]
    }
   ],
   "source": [
    "double(2)\n",
    "double('any')\n",
    "double(object())"
   ]
  }
 ],
 "metadata": {
  "kernelspec": {
   "display_name": "Python 3.11.8 64-bit",
   "language": "python",
   "name": "python3"
  },
  "language_info": {
   "codemirror_mode": {
    "name": "ipython",
    "version": 3
   },
   "file_extension": ".py",
   "mimetype": "text/x-python",
   "name": "python",
   "nbconvert_exporter": "python",
   "pygments_lexer": "ipython3",
   "version": "3.11.8"
  },
  "orig_nbformat": 4,
  "vscode": {
   "interpreter": {
    "hash": "2a8dfe095fce2b5e88c64a2c3ee084c8e0e0d70b23e7b95b1cfb538be294c5c8"
   }
  }
 },
 "nbformat": 4,
 "nbformat_minor": 2
}
